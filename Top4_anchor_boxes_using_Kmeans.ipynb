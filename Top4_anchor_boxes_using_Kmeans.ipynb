{
  "nbformat": 4,
  "nbformat_minor": 0,
  "metadata": {
    "colab": {
      "name": "Top4_anchor_boxes_using_Kmeans.ipynb",
      "provenance": [],
      "collapsed_sections": [],
      "include_colab_link": true
    },
    "kernelspec": {
      "name": "python3",
      "display_name": "Python 3"
    },
    "accelerator": "GPU"
  },
  "cells": [
    {
      "cell_type": "markdown",
      "metadata": {
        "id": "view-in-github",
        "colab_type": "text"
      },
      "source": [
        "<a href=\"https://colab.research.google.com/github/rekhavidya/EVA1/blob/master/Top4_anchor_boxes_using_Kmeans.ipynb\" target=\"_parent\"><img src=\"https://colab.research.google.com/assets/colab-badge.svg\" alt=\"Open In Colab\"/></a>"
      ]
    },
    {
      "cell_type": "markdown",
      "metadata": {
        "id": "r5r3Z-9fasSg",
        "colab_type": "text"
      },
      "source": [
        "##Import necessary Modules"
      ]
    },
    {
      "cell_type": "code",
      "metadata": {
        "id": "HnWtYBrDYUeW",
        "colab_type": "code",
        "colab": {}
      },
      "source": [
        "import json \n",
        "import os\n",
        "with open('./via_project_EVA-Assgn19.json') as f:\n",
        "  j_f=json.load(f)\n",
        "import matplotlib.pyplot as plt\n",
        "from sklearn.cluster import KMeans\n",
        "%matplotlib inline\n",
        "import numpy as np\n",
        "\n",
        "\n"
      ],
      "execution_count": 0,
      "outputs": []
    },
    {
      "cell_type": "markdown",
      "metadata": {
        "id": "2JgakKTOcNI2",
        "colab_type": "text"
      },
      "source": [
        "###Parse the json file"
      ]
    },
    {
      "cell_type": "code",
      "metadata": {
        "id": "HUBao330bS5a",
        "colab_type": "code",
        "colab": {}
      },
      "source": [
        "img_meta=j_f['_via_img_metadata']"
      ],
      "execution_count": 0,
      "outputs": []
    },
    {
      "cell_type": "code",
      "metadata": {
        "id": "lVAa7nPqakgF",
        "colab_type": "code",
        "colab": {}
      },
      "source": [
        "images=[]\n",
        "for img in img_meta:\n",
        "  images.append(img_meta[img])"
      ],
      "execution_count": 0,
      "outputs": []
    },
    {
      "cell_type": "markdown",
      "metadata": {
        "id": "aSOYziTQcTOT",
        "colab_type": "text"
      },
      "source": [
        "###Obtain the width and height of every region and append them to 'boxes' list"
      ]
    },
    {
      "cell_type": "code",
      "metadata": {
        "id": "eks1xT5JdpyQ",
        "colab_type": "code",
        "colab": {}
      },
      "source": [
        "\n",
        "boxes=[]\n",
        "\n",
        "for img in images:\n",
        "  for region in img['regions']:\n",
        "    \n",
        "    boxes.append([region['shape_attributes']['width'],region['shape_attributes']['height']])"
      ],
      "execution_count": 0,
      "outputs": []
    },
    {
      "cell_type": "markdown",
      "metadata": {
        "id": "qgIsC2ptcVdC",
        "colab_type": "text"
      },
      "source": [
        "###Convert boxes list to numpy array"
      ]
    },
    {
      "cell_type": "code",
      "metadata": {
        "id": "v8Ab7TaN708Y",
        "colab_type": "code",
        "colab": {}
      },
      "source": [
        "\n",
        "boxes=np.array(boxes)"
      ],
      "execution_count": 0,
      "outputs": []
    },
    {
      "cell_type": "code",
      "metadata": {
        "id": "mHnw3czGeyib",
        "colab_type": "code",
        "colab": {}
      },
      "source": [
        ""
      ],
      "execution_count": 0,
      "outputs": []
    },
    {
      "cell_type": "markdown",
      "metadata": {
        "id": "dXCjJPUEcX3S",
        "colab_type": "text"
      },
      "source": [
        "###Plot the bounding box sizes as a scatter plot to visualize the distribution"
      ]
    },
    {
      "cell_type": "code",
      "metadata": {
        "id": "-RYZE7Tysw_z",
        "colab_type": "code",
        "outputId": "56f29cd4-233e-4394-9ede-e88bc2c1e835",
        "colab": {
          "base_uri": "https://localhost:8080/",
          "height": 267
        }
      },
      "source": [
        "plt.scatter(boxes[:,0],boxes[:,1])\n",
        "plt.show()"
      ],
      "execution_count": 9,
      "outputs": [
        {
          "output_type": "display_data",
          "data": {
            "image/png": "[encoded data removed]",
            "text/plain": [
              "<Figure size 432x288 with 1 Axes>"
            ]
          },
          "metadata": {
            "tags": []
          }
        }
      ]
    },
    {
      "cell_type": "markdown",
      "metadata": {
        "id": "W62J6dWoccZ4",
        "colab_type": "text"
      },
      "source": [
        "###Run KMeans clustering on the boxes array with number of clusters set to 4. \n",
        "###Visualize the 4 clusters "
      ]
    },
    {
      "cell_type": "code",
      "metadata": {
        "id": "VyCBHOq_-HBj",
        "colab_type": "code",
        "outputId": "8e140b65-50b3-43c2-8988-3c6c891ec8d1",
        "colab": {
          "base_uri": "https://localhost:8080/",
          "height": 267
        }
      },
      "source": [
        "from sklearn.cluster import KMeans\n",
        "km = KMeans(n_clusters=4,random_state=2).fit(boxes)\n",
        "cl_centers=km.cluster_centers_\n",
        "\n",
        "plt.scatter(boxes[:,0], boxes[:,1], c=km.labels_.astype(float))\n",
        "plt.scatter(cl_centers[0,0],cl_centers[0,1],s=150,c='b', marker='X')\n",
        "\n",
        "plt.scatter(cl_centers[1,0],cl_centers[1,1],s=150,c='orange', marker='X')\n",
        "\n",
        "plt.scatter(cl_centers[2,0],cl_centers[2,1],s=150,c='r', marker='X')\n",
        "\n",
        "plt.scatter(cl_centers[3,0],cl_centers[3,1],s=150,c='g', marker='X')\n",
        "\n",
        "plt.show()"
      ],
      "execution_count": 11,
      "outputs": [
        {
          "output_type": "display_data",
          "data": {
            "image/png": "[encoded data removed]",
            "text/plain": [
              "<Figure size 432x288 with 1 Axes>"
            ]
          },
          "metadata": {
            "tags": []
          }
        }
      ]
    },
    {
      "cell_type": "markdown",
      "metadata": {
        "id": "0iFOYk-1chNX",
        "colab_type": "text"
      },
      "source": [
        "###Get the anchor box sizes from the centroids of the 4 clusters "
      ]
    },
    {
      "cell_type": "code",
      "metadata": {
        "id": "MYpObWFUuX05",
        "colab_type": "code",
        "outputId": "770339da-26aa-4ef0-f229-e7d9ffd6e17c",
        "colab": {
          "base_uri": "https://localhost:8080/",
          "height": 92
        }
      },
      "source": [
        "anchor_boxes=[]\n",
        "for w,h in cl_centers:\n",
        "  anchor_boxes.append([int(w),int(h)])\n",
        "\n",
        "for i in range(len(anchor_boxes)):\n",
        "  print('anchor box',i+1,': width = ',anchor_boxes[i][0], ' height = ',anchor_boxes[i][1])"
      ],
      "execution_count": 13,
      "outputs": [
        {
          "output_type": "stream",
          "text": [
            "anchor box 1 : width =  40  height =  50\n",
            "anchor box 2 : width =  163  height =  233\n",
            "anchor box 3 : width =  105  height =  157\n",
            "anchor box 4 : width =  77  height =  101\n"
          ],
          "name": "stdout"
        }
      ]
    },
    {
      "cell_type": "markdown",
      "metadata": {
        "id": "ulAZcBsIeLZa",
        "colab_type": "text"
      },
      "source": [
        "##Summary\n",
        "Using KMeans clustring we obtained the below 4 anchor boxes for the face dataset\n",
        "\n",
        "anchor box 1 : width =  40  height =  50\n",
        "anchor box 2 : width =  163  height =  233\n",
        "anchor box 3 : width =  105  height =  157\n",
        "anchor box 4 : width =  77  height =  101 "
      ]
    }
  ]
}